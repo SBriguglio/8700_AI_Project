{
 "cells": [
  {
   "cell_type": "markdown",
   "id": "529d15b9-e5a1-453c-b51c-b886ae39cd91",
   "metadata": {},
   "source": [
    "# Simple CNN Deepfake Classification"
   ]
  },
  {
   "cell_type": "markdown",
   "source": [
    "Importing packages and setting environment variables"
   ],
   "metadata": {
    "collapsed": false,
    "pycharm": {
     "name": "#%% md\n"
    }
   }
  },
  {
   "cell_type": "code",
   "execution_count": 17,
   "id": "35eb2e34-52d2-4e85-b50f-4878f5f28e7f",
   "metadata": {},
   "outputs": [],
   "source": [
    "import os\n",
    "from pathlib import Path\n",
    "\n",
    "import keras.preprocessing.image_dataset\n",
    "import numpy as np\n",
    "import pandas as pd\n",
    "import random\n",
    "import cv2\n",
    "import matplotlib.pyplot as plt\n",
    "import tensorflow as tf\n",
    "import keras\n",
    "import keras.backend as k\n",
    "\n",
    "from keras.models import Model, Sequential\n",
    "from keras.losses import SparseCategoricalCrossentropy\n",
    "from keras.layers import Input, Dense, Flatten, Dropout, BatchNormalization, Rescaling\n",
    "from keras.layers import Conv2D, SeparableConv2D, MaxPooling2D, LeakyReLU, Activation\n",
    "from keras.optimizers import adam_v2 as Adam\n",
    "from keras.preprocessing.image import ImageDataGenerator\n",
    "from keras.callbacks import ModelCheckpoint, ReduceLROnPlateau, EarlyStopping\n",
    "\n",
    "seed = 1337\n",
    "np.random.seed(seed)\n",
    "tf.random.set_seed(seed)\n",
    "image_path = \"../../resources/Processed/cropped150\"\n",
    "df_path = image_path + \"/deepfakes/\"\n",
    "or_path = image_path + \"/originals/\"\n",
    "image_size = (150, 150)\n",
    "batch_size = 64\n",
    "validation_split = 0.2\n",
    "epochs=100"
   ]
  },
  {
   "cell_type": "markdown",
   "source": [
    "We need to create training, testing and validation sets. We will start by removing 10% of the data for validation. This data will not be used in model training.\n",
    "Of the remaining images, 10% will be used as a test images and 90% will be used for training images. There are a number of ways to prepare data; we want to make\n",
    "use of the ```tf.keras.preprocessing.image_dataset_from_directory``` utility to help streamline preprocessing and allow us to use tensorflow's high-performance\n",
    " ```tf.data.Dataset``` object. In order to do so, we need to ensure that the images in the source directory are named appropriately. Confirm that the dataset is\n",
    " split into 2 folders named with the image classification of the images they contain, respectively. For example:\n",
    " ```shell\n",
    " ../cropped150/\n",
    "    ../deepfakes/\n",
    "      ..deepfakes_image_1.jpg\n",
    "      ..deepfakes_image_2.jpg\n",
    "    ../originals/\n",
    "      ..originals_image_1.jpg\n",
    "      ..originals_image_2.jpg\n",
    " ```\n",
    "Our directories are already organized appropriately, but we need to enforce the naming scheme as shown above. We use the following shell script. Note, you will need to change\n",
    "the path variables to point to the path in your system."
   ],
   "metadata": {
    "collapsed": false,
    "pycharm": {
     "name": "#%% md\n"
    }
   }
  },
  {
   "cell_type": "code",
   "execution_count": 17,
   "outputs": [
    {
     "name": "stdout",
     "output_type": "stream",
     "text": [
      "Renaming deepfakes. Please wait...\n",
      "3466\n",
      "Renaming originals. Please wait...\n",
      "3400\n",
      "Complete.\n"
     ]
    }
   ],
   "source": [
    "%%sh\n",
    "DF_PATH=\"/home/brigugls/repositories/University_Repos/CourseWork/8700Project_DeepFakeDetection/DeepFakeDetected/DeepFakeDetected/DeepFakeDetected/resources/Processed/cropped150/deepfakes/\"\n",
    "OR_PATH=\"/home/brigugls/repositories/University_Repos/CourseWork/8700Project_DeepFakeDetection/DeepFakeDetected/DeepFakeDetected/DeepFakeDetected/resources/Processed/cropped150/originals/\"\n",
    "\n",
    "echo \"Renaming deepfakes. Please wait...\"\n",
    "cd $DF_PATH || return\n",
    "COUNT=0\n",
    "for IMAGE in *.jpg; do\n",
    "  [ -f \"$IMAGE\" ] || break;\n",
    "  N=$(printf '%06d' $COUNT);\n",
    "  mv \"$IMAGE\" \"deepfakes_image_${N}.jpg\"\n",
    "  COUNT=$((COUNT+1))\n",
    "done\n",
    "echo $COUNT\n",
    "\n",
    "echo \"Renaming originals. Please wait...\"\n",
    "cd $OR_PATH || return\n",
    "COUNT=0\n",
    "for IMAGE in *.jpg; do\n",
    "  [ -f \"$IMAGE\" ] || break\n",
    "  N=$(printf '%06d' $COUNT)\n",
    "  mv \"$IMAGE\" \"originals_image_${N}.jpg\"\n",
    "  COUNT=$((COUNT+1))\n",
    "done\n",
    "echo $COUNT\n",
    "\n",
    "echo \"Complete.\""
   ],
   "metadata": {
    "collapsed": false,
    "pycharm": {
     "name": "#%%\n"
    }
   }
  },
  {
   "cell_type": "markdown",
   "source": [
    "---\n",
    "With the files being renamed, we can create the ```tf.data.Dataset``` objects from our data. In the following two lines, we will create two datasets, a training set and a validation set, where the validation set will contain 20% of our data, selected at random."
   ],
   "metadata": {
    "collapsed": false,
    "pycharm": {
     "name": "#%% md\n"
    }
   }
  },
  {
   "cell_type": "code",
   "execution_count": 9,
   "outputs": [
    {
     "name": "stdout",
     "output_type": "stream",
     "text": [
      "Found 6866 files belonging to 2 classes.\n",
      "Using 5493 files for training.\n"
     ]
    }
   ],
   "source": [
    "training_set = keras.preprocessing.image_dataset.image_dataset_from_directory(image_path, batch_size=batch_size, image_size=image_size, validation_split=validation_split, subset=\"training\", seed=seed)"
   ],
   "metadata": {
    "collapsed": false,
    "pycharm": {
     "name": "#%%\n"
    }
   }
  },
  {
   "cell_type": "code",
   "execution_count": 10,
   "outputs": [
    {
     "name": "stdout",
     "output_type": "stream",
     "text": [
      "Found 6866 files belonging to 2 classes.\n",
      "Using 1373 files for validation.\n"
     ]
    }
   ],
   "source": [
    "validation_set = keras.preprocessing.image_dataset.image_dataset_from_directory(image_path, batch_size=batch_size, image_size=image_size, validation_split=validation_split, subset=\"validation\", seed=seed)"
   ],
   "metadata": {
    "collapsed": false,
    "pycharm": {
     "name": "#%%\n"
    }
   }
  },
  {
   "cell_type": "markdown",
   "source": [
    "We can confirm the class names to check that the data was loaded correctly."
   ],
   "metadata": {
    "collapsed": false,
    "pycharm": {
     "name": "#%% md\n"
    }
   }
  },
  {
   "cell_type": "code",
   "execution_count": 11,
   "outputs": [
    {
     "name": "stdout",
     "output_type": "stream",
     "text": [
      "['deepfakes', 'originals']\n",
      "['deepfakes', 'originals']\n"
     ]
    }
   ],
   "source": [
    "print(training_set.class_names)\n",
    "print(validation_set.class_names)"
   ],
   "metadata": {
    "collapsed": false,
    "pycharm": {
     "name": "#%%\n"
    }
   }
  },
  {
   "cell_type": "markdown",
   "source": [
    "With the dataset being created, we should take care of any other preprocessing and preparatory tasks (like data augmentation) now. We start by standardizing data now to between the [0, 1] range as image files store pixel values as [0, 255] integers."
   ],
   "metadata": {
    "collapsed": false,
    "pycharm": {
     "name": "#%% md\n"
    }
   }
  },
  {
   "cell_type": "code",
   "execution_count": 15,
   "outputs": [],
   "source": [
    "normalization_layer = Rescaling(1./255)\n",
    "norm_train_set = training_set.map(lambda x, y:(normalization_layer(x), y))\n",
    "norm_val_set = validation_set.map(lambda x, y:(normalization_layer(x), y))"
   ],
   "metadata": {
    "collapsed": false,
    "pycharm": {
     "name": "#%%\n"
    }
   }
  },
  {
   "cell_type": "markdown",
   "source": [
    "We can confirm the image values are now standardized within the [0, 1] range in both the training and validation sets."
   ],
   "metadata": {
    "collapsed": false
   }
  },
  {
   "cell_type": "code",
   "execution_count": 16,
   "outputs": [
    {
     "name": "stdout",
     "output_type": "stream",
     "text": [
      "0.0 0.93725497\n",
      "0.0 1.0\n"
     ]
    }
   ],
   "source": [
    "t_image_batch, t_labels_batch = next(iter(norm_train_set))\n",
    "v_image_batch, v_labels_batch = next(iter(norm_val_set))\n",
    "t_first_image = t_image_batch[0]\n",
    "v_first_image = v_image_batch[0]\n",
    "print(np.min(t_first_image), np.max(t_first_image))\n",
    "print(np.min(v_first_image), np.max(v_first_image))"
   ],
   "metadata": {
    "collapsed": false,
    "pycharm": {
     "name": "#%%\n"
    }
   }
  },
  {
   "cell_type": "markdown",
   "source": [
    "## Defining the Model\n",
    "We can now define the model to be trained.\n",
    "\n",
    "An important note: we could also use the normalization layer within the model to simplify deployment. This is the approach we follow."
   ],
   "metadata": {
    "collapsed": false,
    "pycharm": {
     "name": "#%% md\n"
    }
   }
  },
  {
   "cell_type": "code",
   "execution_count": 18,
   "outputs": [],
   "source": [
    "num_classes = len(training_set.class_names)\n",
    "\n",
    "model = Sequential([\n",
    "  Rescaling(1./255, input_shape=(image_size[0], image_size[1], 3)), # Here we normalize the data\n",
    "  Conv2D(16, 3, padding='same', activation='relu'),\n",
    "  MaxPooling2D(),\n",
    "  Conv2D(32, 3, padding='same', activation='relu'),\n",
    "  MaxPooling2D(),\n",
    "  Conv2D(64, 3, padding='same', activation='relu'),\n",
    "  MaxPooling2D(),\n",
    "  Flatten(),\n",
    "  Dense(128, activation='relu'),\n",
    "  Dense(num_classes)\n",
    "])"
   ],
   "metadata": {
    "collapsed": false,
    "pycharm": {
     "name": "#%%\n"
    }
   }
  },
  {
   "cell_type": "code",
   "execution_count": 19,
   "outputs": [
    {
     "name": "stdout",
     "output_type": "stream",
     "text": [
      "Model: \"sequential\"\n",
      "_________________________________________________________________\n",
      " Layer (type)                Output Shape              Param #   \n",
      "=================================================================\n",
      " rescaling_2 (Rescaling)     (None, 150, 150, 3)       0         \n",
      "                                                                 \n",
      " conv2d (Conv2D)             (None, 150, 150, 16)      448       \n",
      "                                                                 \n",
      " max_pooling2d (MaxPooling2D  (None, 75, 75, 16)       0         \n",
      " )                                                               \n",
      "                                                                 \n",
      " conv2d_1 (Conv2D)           (None, 75, 75, 32)        4640      \n",
      "                                                                 \n",
      " max_pooling2d_1 (MaxPooling  (None, 37, 37, 32)       0         \n",
      " 2D)                                                             \n",
      "                                                                 \n",
      " conv2d_2 (Conv2D)           (None, 37, 37, 64)        18496     \n",
      "                                                                 \n",
      " max_pooling2d_2 (MaxPooling  (None, 18, 18, 64)       0         \n",
      " 2D)                                                             \n",
      "                                                                 \n",
      " flatten (Flatten)           (None, 20736)             0         \n",
      "                                                                 \n",
      " dense (Dense)               (None, 128)               2654336   \n",
      "                                                                 \n",
      " dense_1 (Dense)             (None, 2)                 258       \n",
      "                                                                 \n",
      "=================================================================\n",
      "Total params: 2,678,178\n",
      "Trainable params: 2,678,178\n",
      "Non-trainable params: 0\n",
      "_________________________________________________________________\n"
     ]
    }
   ],
   "source": [
    "# Compile the model\n",
    "model.compile(optimizer='adam',\n",
    "              loss=SparseCategoricalCrossentropy(from_logits=True),\n",
    "              metrics=['accuracy'])\n",
    "model.summary()"
   ],
   "metadata": {
    "collapsed": false,
    "pycharm": {
     "name": "#%%\n"
    }
   }
  },
  {
   "cell_type": "markdown",
   "source": [
    "## Model Training\n",
    "Now we can train the model"
   ],
   "metadata": {
    "collapsed": false,
    "pycharm": {
     "name": "#%% md\n"
    }
   }
  },
  {
   "cell_type": "code",
   "source": [
    "# feel free to change epochs here\n",
    "epochs = 10\n",
    "history = model.fit(\n",
    "  training_set,\n",
    "  validation_data=validation_set,\n",
    "  epochs=epochs,\n",
    ")"
   ],
   "metadata": {
    "collapsed": false,
    "pycharm": {
     "name": "#%%\n"
    }
   },
   "execution_count": 21,
   "outputs": [
    {
     "name": "stdout",
     "output_type": "stream",
     "text": [
      "Epoch 1/10\n"
     ]
    },
    {
     "name": "stderr",
     "output_type": "stream",
     "text": [
      "2022-03-30 20:17:28.973360: W tensorflow/core/framework/cpu_allocator_impl.cc:82] Allocation of 92160000 exceeds 10% of free system memory.\n"
     ]
    },
    {
     "name": "stdout",
     "output_type": "stream",
     "text": [
      " 1/86 [..............................] - ETA: 1:37 - loss: 0.6929 - accuracy: 0.5156"
     ]
    },
    {
     "name": "stderr",
     "output_type": "stream",
     "text": [
      "2022-03-30 20:17:29.262486: W tensorflow/core/framework/cpu_allocator_impl.cc:82] Allocation of 92160000 exceeds 10% of free system memory.\n",
      "2022-03-30 20:17:29.378885: W tensorflow/core/framework/cpu_allocator_impl.cc:82] Allocation of 92160000 exceeds 10% of free system memory.\n"
     ]
    },
    {
     "name": "stdout",
     "output_type": "stream",
     "text": [
      " 2/86 [..............................] - ETA: 24s - loss: 0.7014 - accuracy: 0.5469 "
     ]
    },
    {
     "name": "stderr",
     "output_type": "stream",
     "text": [
      "2022-03-30 20:17:29.562516: W tensorflow/core/framework/cpu_allocator_impl.cc:82] Allocation of 92160000 exceeds 10% of free system memory.\n",
      "2022-03-30 20:17:29.665519: W tensorflow/core/framework/cpu_allocator_impl.cc:82] Allocation of 92160000 exceeds 10% of free system memory.\n"
     ]
    },
    {
     "name": "stdout",
     "output_type": "stream",
     "text": [
      "86/86 [==============================] - 28s 310ms/step - loss: 0.5395 - accuracy: 0.7093 - val_loss: 0.2272 - val_accuracy: 0.9425\n",
      "Epoch 2/10\n",
      "86/86 [==============================] - 25s 294ms/step - loss: 0.1125 - accuracy: 0.9678 - val_loss: 0.0445 - val_accuracy: 0.9913\n",
      "Epoch 3/10\n",
      "86/86 [==============================] - 25s 291ms/step - loss: 0.0217 - accuracy: 0.9960 - val_loss: 0.0905 - val_accuracy: 0.9680\n",
      "Epoch 4/10\n",
      "86/86 [==============================] - 25s 289ms/step - loss: 0.0192 - accuracy: 0.9953 - val_loss: 0.0167 - val_accuracy: 0.9971\n",
      "Epoch 5/10\n",
      "86/86 [==============================] - 26s 297ms/step - loss: 0.0083 - accuracy: 0.9984 - val_loss: 0.0152 - val_accuracy: 0.9978\n",
      "Epoch 6/10\n",
      "86/86 [==============================] - 25s 287ms/step - loss: 0.0155 - accuracy: 0.9965 - val_loss: 0.0146 - val_accuracy: 0.9971\n",
      "Epoch 7/10\n",
      "86/86 [==============================] - 25s 289ms/step - loss: 0.0046 - accuracy: 0.9996 - val_loss: 0.0113 - val_accuracy: 0.9985\n",
      "Epoch 8/10\n",
      "86/86 [==============================] - 25s 295ms/step - loss: 0.0036 - accuracy: 0.9996 - val_loss: 0.0102 - val_accuracy: 0.9985\n",
      "Epoch 9/10\n",
      "86/86 [==============================] - 26s 297ms/step - loss: 0.0028 - accuracy: 0.9996 - val_loss: 0.0085 - val_accuracy: 0.9985\n",
      "Epoch 10/10\n",
      "86/86 [==============================] - 27s 315ms/step - loss: 0.0019 - accuracy: 0.9998 - val_loss: 0.0089 - val_accuracy: 0.9985\n"
     ]
    }
   ]
  },
  {
   "cell_type": "markdown",
   "source": [
    "## Visualizing Training Results\n",
    "We can create plots of loss and accuracy on the training and validation sets"
   ],
   "metadata": {
    "collapsed": false,
    "pycharm": {
     "name": "#%% md\n"
    }
   }
  },
  {
   "cell_type": "code",
   "execution_count": 22,
   "outputs": [
    {
     "data": {
      "text/plain": "<Figure size 576x576 with 2 Axes>",
      "image/png": "[encoded data removed]"
     },
     "metadata": {
      "needs_background": "light"
     },
     "output_type": "display_data"
    }
   ],
   "source": [
    "acc = history.history['accuracy']\n",
    "val_acc = history.history['val_accuracy']\n",
    "\n",
    "loss = history.history['loss']\n",
    "val_loss = history.history['val_loss']\n",
    "\n",
    "epochs_range = range(epochs)\n",
    "\n",
    "plt.figure(figsize=(8, 8))\n",
    "plt.subplot(1, 2, 1)\n",
    "plt.plot(epochs_range, acc, label='Training Accuracy')\n",
    "plt.plot(epochs_range, val_acc, label='Validation Accuracy')\n",
    "plt.legend(loc='lower right')\n",
    "plt.title('Training and Validation Accuracy')\n",
    "\n",
    "plt.subplot(1, 2, 2)\n",
    "plt.plot(epochs_range, loss, label='Training Loss')\n",
    "plt.plot(epochs_range, val_loss, label='Validation Loss')\n",
    "plt.legend(loc='upper right')\n",
    "plt.title('Training and Validation Loss')\n",
    "plt.show()"
   ],
   "metadata": {
    "collapsed": false,
    "pycharm": {
     "name": "#%%\n"
    }
   }
  },
  {
   "cell_type": "code",
   "execution_count": null,
   "outputs": [],
   "source": [],
   "metadata": {
    "collapsed": false,
    "pycharm": {
     "name": "#%%\n"
    }
   }
  }
 ],
 "metadata": {
  "kernelspec": {
   "display_name": "Python 3 (ipykernel)",
   "language": "python",
   "name": "python3"
  },
  "language_info": {
   "codemirror_mode": {
    "name": "ipython",
    "version": 3
   },
   "file_extension": ".py",
   "mimetype": "text/x-python",
   "name": "python",
   "nbconvert_exporter": "python",
   "pygments_lexer": "ipython3",
   "version": "3.10.0"
  }
 },
 "nbformat": 4,
 "nbformat_minor": 5
}